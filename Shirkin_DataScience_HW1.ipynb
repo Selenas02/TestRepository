{
  "nbformat": 4,
  "nbformat_minor": 0,
  "metadata": {
    "colab": {
      "name": "Shirkin_DataScience_HW1.ipynb",
      "provenance": [],
      "authorship_tag": "ABX9TyO5yv+m0WGERcC6knpl6FzF",
      "include_colab_link": true
    },
    "kernelspec": {
      "name": "python3",
      "display_name": "Python 3"
    },
    "language_info": {
      "name": "python"
    }
  },
  "cells": [
    {
      "cell_type": "markdown",
      "metadata": {
        "id": "view-in-github",
        "colab_type": "text"
      },
      "source": [
        "<a href=\"https://colab.research.google.com/github/Selenas02/TestRepository/blob/main/Shirkin_DataScience_HW1.ipynb\" target=\"_parent\"><img src=\"https://colab.research.google.com/assets/colab-badge.svg\" alt=\"Open In Colab\"/></a>"
      ]
    },
    {
      "cell_type": "code",
      "execution_count": null,
      "metadata": {
        "id": "WboohmIRVHW-"
      },
      "outputs": [],
      "source": []
    },
    {
      "cell_type": "markdown",
      "source": [
        "Something\n",
        "\n",
        "#Something with a Header\n",
        "\n",
        "\n",
        "##Something with another header\n",
        "\n",
        "\n"
      ],
      "metadata": {
        "id": "nl7YWfwVVOKk"
      }
    },
    {
      "cell_type": "code",
      "source": [
        "x = 5\n",
        "print(x+3)\n"
      ],
      "metadata": {
        "colab": {
          "base_uri": "https://localhost:8080/"
        },
        "id": "JEyTKpZTVw1s",
        "outputId": "988ca172-c03d-4b7d-c749-12cdc126b79e"
      },
      "execution_count": 1,
      "outputs": [
        {
          "output_type": "stream",
          "name": "stdout",
          "text": [
            "8\n"
          ]
        }
      ]
    }
  ]
}